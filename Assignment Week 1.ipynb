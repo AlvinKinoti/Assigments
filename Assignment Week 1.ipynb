{
 "cells": [
  {
   "cell_type": "code",
   "execution_count": 35,
   "id": "5e3199fc",
   "metadata": {},
   "outputs": [
    {
     "name": "stdout",
     "output_type": "stream",
     "text": [
      "['Green', 'White', 'Black']\n"
     ]
    }
   ],
   "source": [
    "#Question 1 Write a Python program to print a specified list after removing the 0th, 4th and 5th elements in a List.(2mrks)\n",
    "\n",
    "Sample_List = [\"Red\", \"Green\", \"White\", \"Black\", \"Pink\", \"Yellow\"]\n",
    "\n",
    "del Sample_List[0]\n",
    "\n",
    "Sample_List.pop()\n",
    "\n",
    "Sample_List.pop()\n",
    "\n",
    "print(Sample_List)"
   ]
  },
  {
   "cell_type": "code",
   "execution_count": 8,
   "id": "937d3743",
   "metadata": {},
   "outputs": [
    {
     "name": "stdout",
     "output_type": "stream",
     "text": [
      "3\n"
     ]
    }
   ],
   "source": [
    "#Question 2 Create a list and print it length using the len () function. (1mrk)\n",
    "\n",
    "list1 = [\"Wolf\", \"Lion\", \"Zebra\"]\n",
    "\n",
    "print(len(list1))"
   ]
  },
  {
   "cell_type": "code",
   "execution_count": 39,
   "id": "3495e6ab",
   "metadata": {},
   "outputs": [
    {
     "name": "stdout",
     "output_type": "stream",
     "text": [
      "[100, 205, 309, 40, 50, 60]\n"
     ]
    }
   ],
   "source": [
    "#Question 3 Write a Python program to extend a list without sing function append.(2mrks)\n",
    "\n",
    "from itertools import *\n",
    "\n",
    "a = [100, 205, 309]\n",
    "\n",
    "print(list(chain(a, [40, 50, 60])))"
   ]
  },
  {
   "cell_type": "code",
   "execution_count": 10,
   "id": "e8953edc",
   "metadata": {},
   "outputs": [
    {
     "name": "stdout",
     "output_type": "stream",
     "text": [
      "dic {1: 10, 2: 20, 3: 30, 4: 40, 5: 50, 6: 60}\n"
     ]
    }
   ],
   "source": [
    "#Question 4 Write a Python script to concatenate the following dictionaries to create a new one.(3mrks)\n",
    "\n",
    "dic1= {1:10, 2:20}\n",
    "dic2={3:30, 4:40}\n",
    "dic3={5:50,6:60}\n",
    "\n",
    "print(\"dic\", dic1|dic2|dic3)"
   ]
  },
  {
   "cell_type": "code",
   "execution_count": 29,
   "id": "88666ca8",
   "metadata": {},
   "outputs": [
    {
     "name": "stdout",
     "output_type": "stream",
     "text": [
      "True\n"
     ]
    }
   ],
   "source": [
    "#Question 5 What will be the output of the following Python coding snippet?(2mrks)\n",
    "\n",
    "init_tuple_a = \"a\", \"b\"\n",
    "init_tuple_b = (\"a\", \"b\")\n",
    "print (init_tuple_a == init_tuple_b)"
   ]
  },
  {
   "cell_type": "code",
   "execution_count": 30,
   "id": "467cda52",
   "metadata": {},
   "outputs": [
    {
     "name": "stdout",
     "output_type": "stream",
     "text": [
      "(1, 2, 3, 4)\n"
     ]
    }
   ],
   "source": [
    "#Question 6 What will be the output of the following code snippet?(2mrks)\n",
    "\n",
    "init_tuple_a = 1, 2\n",
    "init_tuple_b = (3, 4)\n",
    "print (init_tuple_a + init_tuple_b)"
   ]
  },
  {
   "cell_type": "code",
   "execution_count": 40,
   "id": "5a17a45b",
   "metadata": {},
   "outputs": [],
   "source": [
    "#Question 7 Explain 3 differences between lists dictionary, and tuples?(3mrks)\n",
    "\n",
    "#Lists \n",
    "\n",
    "# a)Written with square brackets b)Allow duplicate values c)They can be changed\n",
    "\n",
    "#Tuples \n",
    "\n",
    "# a)They Don't allow duplicates b)Cannot be changed c)Written with round brackets\n",
    "\n",
    "#Dictionaries \n",
    "\n",
    "# a)They store values in pairs b)Written with curly brackets c)They have keys and values"
   ]
  },
  {
   "cell_type": "code",
   "execution_count": null,
   "id": "f8a2566d",
   "metadata": {},
   "outputs": [],
   "source": []
  }
 ],
 "metadata": {
  "kernelspec": {
   "display_name": "Python 3 (ipykernel)",
   "language": "python",
   "name": "python3"
  },
  "language_info": {
   "codemirror_mode": {
    "name": "ipython",
    "version": 3
   },
   "file_extension": ".py",
   "mimetype": "text/x-python",
   "name": "python",
   "nbconvert_exporter": "python",
   "pygments_lexer": "ipython3",
   "version": "3.11.4"
  }
 },
 "nbformat": 4,
 "nbformat_minor": 5
}
